{
 "cells": [
  {
   "cell_type": "code",
   "execution_count": 64,
   "metadata": {},
   "outputs": [],
   "source": [
    "import pandas as pd\n",
    "import json\n",
    "import plotly.express as px\n",
    "import plotly.io as pio\n",
    "pio.renderers.default = \"browser\""
   ]
  },
  {
   "cell_type": "code",
   "execution_count": 65,
   "metadata": {},
   "outputs": [],
   "source": [
    "punjab_districts = json.load(open(\"punjabHigh.json\", \"r\")) # r as in read"
   ]
  },
  {
   "cell_type": "code",
   "execution_count": 66,
   "metadata": {},
   "outputs": [],
   "source": [
    "state_id_map = {}\n",
    "for feature in punjab_districts['features']:\n",
    "    feature['id'] = feature['properties']['id']\n",
    "    state_id_map[feature['properties']['name']] = feature['id']"
   ]
  },
  {
   "cell_type": "code",
   "execution_count": 67,
   "metadata": {},
   "outputs": [
    {
     "data": {
      "text/plain": [
       "{'Amritsar': 'Amritsar',\n",
       " 'Barnala': 'Barnala',\n",
       " 'Bathinda': 'Bathinda',\n",
       " 'Faridkot': 'Faridkot',\n",
       " 'Fatehgarh Sahib': 'Fatehgarh Sahib',\n",
       " 'Fazilka': 'Fazilka',\n",
       " 'Firozpur': 'Firozpur',\n",
       " 'Gurdaspur': 'Gurdaspur',\n",
       " 'Hoshiarpur': 'Hoshiarpur',\n",
       " 'Jalandhar': 'Jalandhar',\n",
       " 'Kapurthala': 'Kapurthala',\n",
       " 'Ludhiana': 'Ludhiana',\n",
       " 'Mansa': 'Mansa',\n",
       " 'Moga': 'Moga',\n",
       " 'Muktsar': 'Muktsar',\n",
       " 'Pathankot': 'Pathankot',\n",
       " 'Patiala': 'Patiala',\n",
       " 'Rupnagar': 'Rupnagar',\n",
       " 'SAS Nagar': 'SAS Nagar',\n",
       " 'Sangrur': 'Sangrur',\n",
       " 'SBS Nagar\\t': 'SBS Nagar\\t',\n",
       " 'Tarn Taran': 'Tarn Taran'}"
      ]
     },
     "execution_count": 67,
     "metadata": {},
     "output_type": "execute_result"
    }
   ],
   "source": [
    "state_id_map"
   ]
  },
  {
   "cell_type": "code",
   "execution_count": 68,
   "metadata": {},
   "outputs": [
    {
     "data": {
      "text/plain": [
       "{'name': 'Bathinda', 'id': 'Bathinda'}"
      ]
     },
     "execution_count": 68,
     "metadata": {},
     "output_type": "execute_result"
    }
   ],
   "source": [
    "punjab_districts['features'][2]['properties']"
   ]
  },
  {
   "cell_type": "code",
   "execution_count": 69,
   "metadata": {},
   "outputs": [],
   "source": [
    "df = pd.read_excel(\"data/data.xlsx\", dtype={\"fips\": str})\n",
    "df['id'] = df['District'].map(state_id_map)"
   ]
  },
  {
   "cell_type": "code",
   "execution_count": 70,
   "metadata": {},
   "outputs": [
    {
     "data": {
      "text/html": [
       "<div>\n",
       "<style scoped>\n",
       "    .dataframe tbody tr th:only-of-type {\n",
       "        vertical-align: middle;\n",
       "    }\n",
       "\n",
       "    .dataframe tbody tr th {\n",
       "        vertical-align: top;\n",
       "    }\n",
       "\n",
       "    .dataframe thead th {\n",
       "        text-align: right;\n",
       "    }\n",
       "</style>\n",
       "<table border=\"1\" class=\"dataframe\">\n",
       "  <thead>\n",
       "    <tr style=\"text-align: right;\">\n",
       "      <th></th>\n",
       "      <th>District</th>\n",
       "      <th>Headquarters</th>\n",
       "      <th>Population (2011)</th>\n",
       "      <th>Area (km²)[3]</th>\n",
       "      <th>Density (/km²)</th>\n",
       "      <th>Enforced Disappearances/Extrajudicial Executions</th>\n",
       "      <th>Extrajudicial Executions</th>\n",
       "      <th>Enforced Disappearances</th>\n",
       "      <th>id</th>\n",
       "    </tr>\n",
       "  </thead>\n",
       "  <tbody>\n",
       "    <tr>\n",
       "      <th>0</th>\n",
       "      <td>Amritsar</td>\n",
       "      <td>AM</td>\n",
       "      <td>2490891.0</td>\n",
       "      <td>2647.0</td>\n",
       "      <td>932.0</td>\n",
       "      <td>1641.0</td>\n",
       "      <td>1434.0</td>\n",
       "      <td>207</td>\n",
       "      <td>Amritsar</td>\n",
       "    </tr>\n",
       "    <tr>\n",
       "      <th>1</th>\n",
       "      <td>Barnala</td>\n",
       "      <td>BNL</td>\n",
       "      <td>596294.0</td>\n",
       "      <td>1410.0</td>\n",
       "      <td>419.0</td>\n",
       "      <td>68.0</td>\n",
       "      <td>45.0</td>\n",
       "      <td>23</td>\n",
       "      <td>Barnala</td>\n",
       "    </tr>\n",
       "    <tr>\n",
       "      <th>2</th>\n",
       "      <td>Bathinda</td>\n",
       "      <td>BA</td>\n",
       "      <td>1388859.0</td>\n",
       "      <td>3385.0</td>\n",
       "      <td>414.0</td>\n",
       "      <td>140.0</td>\n",
       "      <td>90.0</td>\n",
       "      <td>50</td>\n",
       "      <td>Bathinda</td>\n",
       "    </tr>\n",
       "    <tr>\n",
       "      <th>3</th>\n",
       "      <td>Faridkot</td>\n",
       "      <td>FR</td>\n",
       "      <td>618008.0</td>\n",
       "      <td>1469.0</td>\n",
       "      <td>424.0</td>\n",
       "      <td>62.0</td>\n",
       "      <td>52.0</td>\n",
       "      <td>10</td>\n",
       "      <td>Faridkot</td>\n",
       "    </tr>\n",
       "    <tr>\n",
       "      <th>4</th>\n",
       "      <td>Fatehgarh Sahib</td>\n",
       "      <td>FT</td>\n",
       "      <td>599814.0</td>\n",
       "      <td>1180.0</td>\n",
       "      <td>508.0</td>\n",
       "      <td>47.0</td>\n",
       "      <td>37.0</td>\n",
       "      <td>10</td>\n",
       "      <td>Fatehgarh Sahib</td>\n",
       "    </tr>\n",
       "  </tbody>\n",
       "</table>\n",
       "</div>"
      ],
      "text/plain": [
       "          District Headquarters  Population (2011)  Area (km²)[3]  \\\n",
       "0         Amritsar           AM          2490891.0         2647.0   \n",
       "1          Barnala          BNL           596294.0         1410.0   \n",
       "2         Bathinda           BA          1388859.0         3385.0   \n",
       "3         Faridkot           FR           618008.0         1469.0   \n",
       "4  Fatehgarh Sahib           FT           599814.0         1180.0   \n",
       "\n",
       "   Density (/km²)  Enforced Disappearances/Extrajudicial Executions  \\\n",
       "0           932.0                                            1641.0   \n",
       "1           419.0                                              68.0   \n",
       "2           414.0                                             140.0   \n",
       "3           424.0                                              62.0   \n",
       "4           508.0                                              47.0   \n",
       "\n",
       "   Extrajudicial Executions  Enforced Disappearances               id  \n",
       "0                    1434.0                      207         Amritsar  \n",
       "1                      45.0                       23          Barnala  \n",
       "2                      90.0                       50         Bathinda  \n",
       "3                      52.0                       10         Faridkot  \n",
       "4                      37.0                       10  Fatehgarh Sahib  "
      ]
     },
     "execution_count": 70,
     "metadata": {},
     "output_type": "execute_result"
    }
   ],
   "source": [
    "df.head()"
   ]
  },
  {
   "cell_type": "code",
   "execution_count": 71,
   "metadata": {},
   "outputs": [],
   "source": [
    "fig = px.choropleth(df, locations='id', geojson=\"punjab_districts\", color=\"Extrajudicial Executions\")\n",
    "fig.show()"
   ]
  }
 ],
 "metadata": {
  "interpreter": {
   "hash": "4f946df053fbf2b937619d3c5458e7af74262f9a954d8797ba0b27400bcafe06"
  },
  "kernelspec": {
   "display_name": "Python 3.10.4 64-bit",
   "language": "python",
   "name": "python3"
  },
  "language_info": {
   "codemirror_mode": {
    "name": "ipython",
    "version": 3
   },
   "file_extension": ".py",
   "mimetype": "text/x-python",
   "name": "python",
   "nbconvert_exporter": "python",
   "pygments_lexer": "ipython3",
   "version": "3.10.4"
  },
  "orig_nbformat": 4
 },
 "nbformat": 4,
 "nbformat_minor": 2
}
