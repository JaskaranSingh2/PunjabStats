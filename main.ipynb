{
 "cells": [
  {
   "cell_type": "code",
   "execution_count": 10,
   "metadata": {},
   "outputs": [],
   "source": [
    "import pandas as pd\n",
    "# https://www.youtube.com/watch?v=YnggjqAfZCU"
   ]
  },
  {
   "cell_type": "code",
   "execution_count": 17,
   "metadata": {},
   "outputs": [],
   "source": [
    "data_frame = pd.read_excel(\"data/data.xlsx\", dtype={\"fips\": str})"
   ]
  },
  {
   "cell_type": "code",
   "execution_count": 18,
   "metadata": {},
   "outputs": [
    {
     "data": {
      "text/html": [
       "<div>\n",
       "<style scoped>\n",
       "    .dataframe tbody tr th:only-of-type {\n",
       "        vertical-align: middle;\n",
       "    }\n",
       "\n",
       "    .dataframe tbody tr th {\n",
       "        vertical-align: top;\n",
       "    }\n",
       "\n",
       "    .dataframe thead th {\n",
       "        text-align: right;\n",
       "    }\n",
       "</style>\n",
       "<table border=\"1\" class=\"dataframe\">\n",
       "  <thead>\n",
       "    <tr style=\"text-align: right;\">\n",
       "      <th></th>\n",
       "      <th>District</th>\n",
       "      <th>Headquarters</th>\n",
       "      <th>Population (2011)</th>\n",
       "      <th>Area (km²)[3]</th>\n",
       "      <th>Density (/km²)</th>\n",
       "      <th>Enforced Disappearances/Extrajudicial Executions</th>\n",
       "      <th>Extrajudicial Executions</th>\n",
       "      <th>Enforced Disappearances</th>\n",
       "    </tr>\n",
       "  </thead>\n",
       "  <tbody>\n",
       "    <tr>\n",
       "      <th>0</th>\n",
       "      <td>Amritsar</td>\n",
       "      <td>AM</td>\n",
       "      <td>2490891.0</td>\n",
       "      <td>2647.0</td>\n",
       "      <td>932.0</td>\n",
       "      <td>1641.0</td>\n",
       "      <td>1434.0</td>\n",
       "      <td>207</td>\n",
       "    </tr>\n",
       "    <tr>\n",
       "      <th>1</th>\n",
       "      <td>Barnala</td>\n",
       "      <td>BNL</td>\n",
       "      <td>596294.0</td>\n",
       "      <td>1410.0</td>\n",
       "      <td>419.0</td>\n",
       "      <td>68.0</td>\n",
       "      <td>45.0</td>\n",
       "      <td>23</td>\n",
       "    </tr>\n",
       "    <tr>\n",
       "      <th>2</th>\n",
       "      <td>Bathinda</td>\n",
       "      <td>BA</td>\n",
       "      <td>1388859.0</td>\n",
       "      <td>3385.0</td>\n",
       "      <td>414.0</td>\n",
       "      <td>140.0</td>\n",
       "      <td>90.0</td>\n",
       "      <td>50</td>\n",
       "    </tr>\n",
       "    <tr>\n",
       "      <th>3</th>\n",
       "      <td>Faridkot</td>\n",
       "      <td>FR</td>\n",
       "      <td>618008.0</td>\n",
       "      <td>1469.0</td>\n",
       "      <td>424.0</td>\n",
       "      <td>62.0</td>\n",
       "      <td>52.0</td>\n",
       "      <td>10</td>\n",
       "    </tr>\n",
       "    <tr>\n",
       "      <th>4</th>\n",
       "      <td>Fatehgarh Sahib</td>\n",
       "      <td>FT</td>\n",
       "      <td>599814.0</td>\n",
       "      <td>1180.0</td>\n",
       "      <td>508.0</td>\n",
       "      <td>47.0</td>\n",
       "      <td>37.0</td>\n",
       "      <td>10</td>\n",
       "    </tr>\n",
       "  </tbody>\n",
       "</table>\n",
       "</div>"
      ],
      "text/plain": [
       "          District Headquarters  Population (2011)  Area (km²)[3]  \\\n",
       "0         Amritsar           AM          2490891.0         2647.0   \n",
       "1          Barnala          BNL           596294.0         1410.0   \n",
       "2         Bathinda           BA          1388859.0         3385.0   \n",
       "3         Faridkot           FR           618008.0         1469.0   \n",
       "4  Fatehgarh Sahib           FT           599814.0         1180.0   \n",
       "\n",
       "   Density (/km²)  Enforced Disappearances/Extrajudicial Executions  \\\n",
       "0           932.0                                            1641.0   \n",
       "1           419.0                                              68.0   \n",
       "2           414.0                                             140.0   \n",
       "3           424.0                                              62.0   \n",
       "4           508.0                                              47.0   \n",
       "\n",
       "   Extrajudicial Executions  Enforced Disappearances  \n",
       "0                    1434.0                      207  \n",
       "1                      45.0                       23  \n",
       "2                      90.0                       50  \n",
       "3                      52.0                       10  \n",
       "4                      37.0                       10  "
      ]
     },
     "execution_count": 18,
     "metadata": {},
     "output_type": "execute_result"
    }
   ],
   "source": [
    "data_frame.head()"
   ]
  }
 ],
 "metadata": {
  "interpreter": {
   "hash": "4f946df053fbf2b937619d3c5458e7af74262f9a954d8797ba0b27400bcafe06"
  },
  "kernelspec": {
   "display_name": "Python 3.10.4 64-bit",
   "language": "python",
   "name": "python3"
  },
  "language_info": {
   "codemirror_mode": {
    "name": "ipython",
    "version": 3
   },
   "file_extension": ".py",
   "mimetype": "text/x-python",
   "name": "python",
   "nbconvert_exporter": "python",
   "pygments_lexer": "ipython3",
   "version": "3.10.4"
  },
  "orig_nbformat": 4
 },
 "nbformat": 4,
 "nbformat_minor": 2
}
